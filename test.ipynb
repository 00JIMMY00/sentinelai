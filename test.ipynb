{
 "cells": [
  {
   "cell_type": "code",
   "execution_count": 51,
   "metadata": {},
   "outputs": [
    {
     "name": "stdout",
     "output_type": "stream",
     "text": [
      "hoda\n"
     ]
    }
   ],
   "source": [
    "print('hoda')"
   ]
  },
  {
   "cell_type": "code",
   "execution_count": 52,
   "metadata": {},
   "outputs": [],
   "source": [
    "import numpy\n",
    "import os\n",
    "\n"
   ]
  },
  {
   "cell_type": "code",
   "execution_count": 53,
   "metadata": {},
   "outputs": [
    {
     "name": "stdout",
     "output_type": "stream",
     "text": [
      "  Number of Real: 6978\n",
      " Number of Fake: 6978\n"
     ]
    }
   ],
   "source": [
    "import os\n",
    "\n",
    "real_count = len(os.listdir(\"dataset/real\"))\n",
    "fake_count = len(os.listdir(\"dataset/fake\"))\n",
    "\n",
    "print(\"  Number of Real:\", real_count)\n",
    "print(\" Number of Fake:\", fake_count)\n"
   ]
  },
  {
   "cell_type": "markdown",
   "metadata": {},
   "source": [
    "X"
   ]
  },
  {
   "cell_type": "code",
   "execution_count": 54,
   "metadata": {},
   "outputs": [
    {
     "name": "stdout",
     "output_type": "stream",
     "text": [
      "Shape of X (features): (13956, 20)\n",
      "Shape of y (labels): (13956,)\n"
     ]
    }
   ],
   "source": [
    "#Step 1: Import Libraries\n",
    "import os\n",
    "import librosa\n",
    "import numpy as np\n",
    "\n",
    "# Paths\n",
    "real_path = \"dataset/real\"\n",
    "fake_path = \"dataset/fake\"\n",
    "\n",
    "X = []   # features\n",
    "y = []   # labels\n",
    "\n",
    "#Step 2: Preprocessing\n",
    "\n",
    "# Function to extract MFCC features\n",
    "def extract_features(file_path):\n",
    "    y, sr = librosa.load(file_path, sr=16000)   # load audio\n",
    "    mfcc = librosa.feature.mfcc(y=y, sr=sr, n_mfcc=20)  # extract MFCCs\n",
    "    mfcc = np.mean(mfcc.T, axis=0)  # take mean across time to reduce size\n",
    "    return mfcc\n",
    "\n",
    "# Process real audio (label = 0)\n",
    "for file in os.listdir(real_path):\n",
    "    file_path = os.path.join(real_path, file)\n",
    "    features = extract_features(file_path)\n",
    "    X.append(features)\n",
    "    y.append(0)\n",
    "\n",
    "# Process fake audio (label = 1)\n",
    "for file in os.listdir(fake_path):\n",
    "    file_path = os.path.join(fake_path, file)\n",
    "    features = extract_features(file_path)\n",
    "    X.append(features)\n",
    "    y.append(1)\n",
    "\n",
    "# Convert to numpy arrays\n",
    "X = np.array(X)\n",
    "y = np.array(y)\n",
    "\n",
    "print(\"Shape of X (features):\", X.shape)\n",
    "print(\"Shape of y (labels):\", y.shape)\n"
   ]
  },
  {
   "cell_type": "code",
   "execution_count": 89,
   "metadata": {},
   "outputs": [
    {
     "data": {
      "text/plain": [
       "array([[-159.15465  ,   69.013855 ,  -24.30139  , ...,   -1.6907821,\n",
       "         -12.04648  ,   -4.170325 ],\n",
       "       [-181.14969  ,  101.52206  ,  -16.545155 , ...,   -2.3432863,\n",
       "          -8.728118 ,   -3.4083452],\n",
       "       [-178.86577  ,   70.01746  ,  -14.008171 , ...,   -7.242671 ,\n",
       "         -10.442345 ,   -8.342333 ],\n",
       "       ...,\n",
       "       [-203.2837   ,  101.944984 ,   28.760866 , ...,    3.6852238,\n",
       "          -8.911958 ,   -5.1887226],\n",
       "       [-185.3693   ,   50.673904 ,   -9.381918 , ...,   -2.489033 ,\n",
       "         -13.970686 ,   -4.413645 ],\n",
       "       [-111.33813  ,   95.25883  ,  -30.96078  , ...,  -10.128829 ,\n",
       "         -14.044191 ,    0.7977651]], shape=(13956, 20), dtype=float32)"
      ]
     },
     "execution_count": 89,
     "metadata": {},
     "output_type": "execute_result"
    }
   ],
   "source": [
    "X"
   ]
  },
  {
   "cell_type": "code",
   "execution_count": 56,
   "metadata": {},
   "outputs": [],
   "source": [
    "np.save(\"X.npy\", X)\n",
    "np.save(\"y.npy\", y)\n"
   ]
  },
  {
   "cell_type": "code",
   "execution_count": 57,
   "metadata": {},
   "outputs": [
    {
     "name": "stdout",
     "output_type": "stream",
     "text": [
      "Training set size: (11164, 20) (11164,)\n",
      "Testing set size: (2792, 20) (2792,)\n"
     ]
    }
   ],
   "source": [
    "from sklearn.model_selection import train_test_split\n",
    "\n",
    "# Split dataset (80% train, 20% test)\n",
    "X_train, X_test, y_train, y_test = train_test_split(\n",
    "    X, y, test_size=0.2, random_state=42, stratify=y\n",
    ")\n",
    "\n",
    "print(\"Training set size:\", X_train.shape, y_train.shape)\n",
    "print(\"Testing set size:\", X_test.shape, y_test.shape)\n"
   ]
  },
  {
   "cell_type": "code",
   "execution_count": 58,
   "metadata": {},
   "outputs": [
    {
     "name": "stdout",
     "output_type": "stream",
     "text": [
      "Accuracy: 0.7987106017191977\n",
      "\n",
      "Classification Report:\n",
      "               precision    recall  f1-score   support\n",
      "\n",
      "           0       0.81      0.78      0.79      1396\n",
      "           1       0.79      0.82      0.80      1396\n",
      "\n",
      "    accuracy                           0.80      2792\n",
      "   macro avg       0.80      0.80      0.80      2792\n",
      "weighted avg       0.80      0.80      0.80      2792\n",
      "\n"
     ]
    }
   ],
   "source": [
    "from sklearn.linear_model import LogisticRegression\n",
    "from sklearn.metrics import accuracy_score, classification_report\n",
    "\n",
    "# Train a simple Logistic Regression model\n",
    "model = LogisticRegression(max_iter=500)\n",
    "model.fit(X_train, y_train)\n",
    "\n",
    "# Predictions\n",
    "y_pred = model.predict(X_test)\n",
    "\n",
    "# Evaluate\n",
    "print(\"Accuracy:\", accuracy_score(y_test, y_pred))\n",
    "print(\"\\nClassification Report:\\n\", classification_report(y_test, y_pred))\n"
   ]
  },
  {
   "cell_type": "code",
   "execution_count": 59,
   "metadata": {},
   "outputs": [],
   "source": [
    "import tensorflow as tf\n",
    "from tensorflow.keras.models import Sequential\n",
    "from tensorflow.keras.layers import Dense, Conv1D, MaxPooling1D, Flatten, Dropout\n",
    "\n",
    "# Reshape for CNN (samples, timesteps, features)\n",
    "X_train_cnn = X_train.reshape(X_train.shape[0], X_train.shape[1], 1)\n",
    "X_test_cnn  = X_test.reshape(X_test.shape[0], X_test.shape[1], 1)\n",
    "\n",
    "# Build CNN model\n",
    "model = Sequential([\n",
    "    Conv1D(32, kernel_size=3, activation='relu', input_shape=(X_train.shape[1], 1)),\n",
    "    MaxPooling1D(pool_size=2),\n",
    "    Dropout(0.3),\n",
    "\n",
    "    Conv1D(64, kernel_size=3, activation='relu'),\n",
    "    MaxPooling1D(pool_size=2),\n",
    "    Dropout(0.3),\n",
    "\n",
    "    Flatten(),\n",
    "    Dense(64, activation='relu'),\n",
    "    Dropout(0.3),\n",
    "    Dense(1, activation='sigmoid')  # binary classification (real=0, fake=1)\n",
    "])\n",
    "\n",
    "# Compile\n",
    "model.compile(optimizer='adam', loss='binary_crossentropy', metrics=['accuracy'])\n",
    "\n"
   ]
  },
  {
   "cell_type": "code",
   "execution_count": 60,
   "metadata": {},
   "outputs": [
    {
     "name": "stdout",
     "output_type": "stream",
     "text": [
      "Epoch 1/10\n",
      "\u001b[1m349/349\u001b[0m \u001b[32m━━━━━━━━━━━━━━━━━━━━\u001b[0m\u001b[37m\u001b[0m \u001b[1m1s\u001b[0m 2ms/step - accuracy: 0.5847 - loss: 1.0530 - val_accuracy: 0.7633 - val_loss: 0.5895\n",
      "Epoch 2/10\n",
      "\u001b[1m349/349\u001b[0m \u001b[32m━━━━━━━━━━━━━━━━━━━━\u001b[0m\u001b[37m\u001b[0m \u001b[1m1s\u001b[0m 2ms/step - accuracy: 0.7082 - loss: 0.5736 - val_accuracy: 0.7962 - val_loss: 0.4796\n",
      "Epoch 3/10\n",
      "\u001b[1m349/349\u001b[0m \u001b[32m━━━━━━━━━━━━━━━━━━━━\u001b[0m\u001b[37m\u001b[0m \u001b[1m1s\u001b[0m 2ms/step - accuracy: 0.7588 - loss: 0.5088 - val_accuracy: 0.8302 - val_loss: 0.4251\n",
      "Epoch 4/10\n",
      "\u001b[1m349/349\u001b[0m \u001b[32m━━━━━━━━━━━━━━━━━━━━\u001b[0m\u001b[37m\u001b[0m \u001b[1m1s\u001b[0m 2ms/step - accuracy: 0.7891 - loss: 0.4533 - val_accuracy: 0.8592 - val_loss: 0.3516\n",
      "Epoch 5/10\n",
      "\u001b[1m349/349\u001b[0m \u001b[32m━━━━━━━━━━━━━━━━━━━━\u001b[0m\u001b[37m\u001b[0m \u001b[1m1s\u001b[0m 2ms/step - accuracy: 0.8090 - loss: 0.4159 - val_accuracy: 0.8711 - val_loss: 0.3139\n",
      "Epoch 6/10\n",
      "\u001b[1m349/349\u001b[0m \u001b[32m━━━━━━━━━━━━━━━━━━━━\u001b[0m\u001b[37m\u001b[0m \u001b[1m1s\u001b[0m 2ms/step - accuracy: 0.8291 - loss: 0.3782 - val_accuracy: 0.8840 - val_loss: 0.2726\n",
      "Epoch 7/10\n",
      "\u001b[1m349/349\u001b[0m \u001b[32m━━━━━━━━━━━━━━━━━━━━\u001b[0m\u001b[37m\u001b[0m \u001b[1m1s\u001b[0m 2ms/step - accuracy: 0.8463 - loss: 0.3492 - val_accuracy: 0.8994 - val_loss: 0.2541\n",
      "Epoch 8/10\n",
      "\u001b[1m349/349\u001b[0m \u001b[32m━━━━━━━━━━━━━━━━━━━━\u001b[0m\u001b[37m\u001b[0m \u001b[1m1s\u001b[0m 2ms/step - accuracy: 0.8578 - loss: 0.3364 - val_accuracy: 0.9140 - val_loss: 0.2272\n",
      "Epoch 9/10\n",
      "\u001b[1m349/349\u001b[0m \u001b[32m━━━━━━━━━━━━━━━━━━━━\u001b[0m\u001b[37m\u001b[0m \u001b[1m1s\u001b[0m 2ms/step - accuracy: 0.8721 - loss: 0.3114 - val_accuracy: 0.9259 - val_loss: 0.2086\n",
      "Epoch 10/10\n",
      "\u001b[1m349/349\u001b[0m \u001b[32m━━━━━━━━━━━━━━━━━━━━\u001b[0m\u001b[37m\u001b[0m \u001b[1m1s\u001b[0m 2ms/step - accuracy: 0.8766 - loss: 0.2987 - val_accuracy: 0.9330 - val_loss: 0.1961\n",
      "\u001b[1m88/88\u001b[0m \u001b[32m━━━━━━━━━━━━━━━━━━━━\u001b[0m\u001b[37m\u001b[0m \u001b[1m0s\u001b[0m 587us/step - accuracy: 0.9330 - loss: 0.1961\n",
      "Test Accuracy: 0.93\n"
     ]
    }
   ],
   "source": [
    "\n",
    "# Train\n",
    "history = model.fit(X_train_cnn, y_train, validation_data=(X_test_cnn, y_test),\n",
    "                    epochs=10, batch_size=32)\n",
    "\n",
    "# Evaluate\n",
    "loss, acc = model.evaluate(X_test_cnn, y_test)\n",
    "print(f\"Test Accuracy: {acc:.2f}\")"
   ]
  },
  {
   "cell_type": "code",
   "execution_count": 61,
   "metadata": {},
   "outputs": [
    {
     "name": "stderr",
     "output_type": "stream",
     "text": [
      "WARNING:absl:You are saving your model as an HDF5 file via `model.save()` or `keras.saving.save_model(model)`. This file format is considered legacy. We recommend using instead the native Keras format, e.g. `model.save('my_model.keras')` or `keras.saving.save_model(model, 'my_model.keras')`. \n",
      "WARNING:absl:Compiled the loaded model, but the compiled metrics have yet to be built. `model.compile_metrics` will be empty until you train or evaluate the model.\n"
     ]
    }
   ],
   "source": [
    "model.save(\"deepfake_audio_cnn.h5\")\n",
    "from tensorflow.keras.models import load_model\n",
    "model = load_model(\"deepfake_audio_cnn.h5\")\n"
   ]
  },
  {
   "cell_type": "code",
   "execution_count": 90,
   "metadata": {},
   "outputs": [
    {
     "name": "stdout",
     "output_type": "stream",
     "text": [
      "\u001b[1m88/88\u001b[0m \u001b[32m━━━━━━━━━━━━━━━━━━━━\u001b[0m\u001b[37m\u001b[0m \u001b[1m0s\u001b[0m 652us/step\n"
     ]
    },
    {
     "data": {
      "text/plain": [
       "<sklearn.metrics._plot.confusion_matrix.ConfusionMatrixDisplay at 0x308536ad0>"
      ]
     },
     "execution_count": 90,
     "metadata": {},
     "output_type": "execute_result"
    },
    {
     "data": {
      "image/png": "[encoded data removed]",
      "text/plain": [
       "<Figure size 640x480 with 2 Axes>"
      ]
     },
     "metadata": {},
     "output_type": "display_data"
    }
   ],
   "source": [
    "from sklearn.metrics import confusion_matrix, ConfusionMatrixDisplay\n",
    "\n",
    "y_pred_classes = (model.predict(X_test) > 0.5).astype(\"int32\")\n",
    "cm = confusion_matrix(y_test, y_pred_classes)\n",
    "disp = ConfusionMatrixDisplay(confusion_matrix=cm)\n",
    "disp.plot()\n"
   ]
  },
  {
   "cell_type": "code",
   "execution_count": 63,
   "metadata": {},
   "outputs": [
    {
     "ename": "NameError",
     "evalue": "name 'Users' is not defined",
     "output_type": "error",
     "traceback": [
      "\u001b[31m---------------------------------------------------------------------------\u001b[39m",
      "\u001b[31mNameError\u001b[39m                                 Traceback (most recent call last)",
      "\u001b[36mCell\u001b[39m\u001b[36m \u001b[39m\u001b[32mIn[63]\u001b[39m\u001b[32m, line 2\u001b[39m\n\u001b[32m      1\u001b[39m \u001b[38;5;66;03m#Make an inference function (audio_path, model.h5) -> real or fake with percentage (0.89)\u001b[39;00m\n\u001b[32m----> \u001b[39m\u001b[32m2\u001b[39m \u001b[43mUsers\u001b[49m/hudakhaleel/sentinelai/sentinelai/dataset/fake/file9.mp3.wav_16k.wav_norm.wav_mono.wav_silence.wav_2sec.wav()\n",
      "\u001b[31mNameError\u001b[39m: name 'Users' is not defined"
     ]
    }
   ],
   "source": [
    "#Make an inference function (audio_path, model.h5) -> real or fake with percentage (0.89)\n",
    "/Users/hudakhaleel/sentinelai/sentinelai/dataset/fake/file9.mp3.wav_16k.wav_norm.wav_mono.wav_silence.wav_2sec.wav"
   ]
  },
  {
   "cell_type": "code",
   "execution_count": 64,
   "metadata": {},
   "outputs": [
    {
     "ename": "SyntaxError",
     "evalue": "expected argument value expression (4201685045.py, line 1)",
     "output_type": "error",
     "traceback": [
      "  \u001b[36mCell\u001b[39m\u001b[36m \u001b[39m\u001b[32mIn[64]\u001b[39m\u001b[32m, line 1\u001b[39m\n\u001b[31m    \u001b[39m\u001b[31mmodel.load(path=)\u001b[39m\n               ^\n\u001b[31mSyntaxError\u001b[39m\u001b[31m:\u001b[39m expected argument value expression\n"
     ]
    }
   ],
   "source": [
    "model.load(path=)\n"
   ]
  },
  {
   "cell_type": "code",
   "execution_count": 19,
   "metadata": {},
   "outputs": [
    {
     "name": "stderr",
     "output_type": "stream",
     "text": [
      "WARNING:absl:Compiled the loaded model, but the compiled metrics have yet to be built. `model.compile_metrics` will be empty until you train or evaluate the model.\n"
     ]
    },
    {
     "name": "stdout",
     "output_type": "stream",
     "text": [
      "Model loaded successfully \n"
     ]
    }
   ],
   "source": [
    "#Make an inference function (audio_path, model.h5) -> real or fake with percentage (0.89)\n",
    "from tensorflow.keras.models import load_model\n",
    "\n",
    "# Load your saved CNN model\n",
    "model = load_model(\"deepfake_audio_cnn.h5\")\n",
    "\n",
    "print(\"Model loaded successfully \")\n"
   ]
  },
  {
   "cell_type": "code",
   "execution_count": null,
   "metadata": {},
   "outputs": [],
   "source": []
  },
  {
   "cell_type": "code",
   "execution_count": 23,
   "metadata": {},
   "outputs": [],
   "source": [
    "def predict_audio(audio_path, model):\n",
    "    import librosa, numpy as np\n",
    "    \n",
    "    # Load audio\n",
    "    y, sr = librosa.load(audio_path, sr=16000)\n",
    "    \n",
    "    # Extract MFCC\n",
    "    mfcc = librosa.feature.mfcc(y=y, sr=sr, n_mfcc=20)\n",
    "    mfcc = np.mean(mfcc.T, axis=0)  # average over time\n",
    "    mfcc = mfcc.reshape(1, -1)      # reshape for model\n",
    "    \n",
    "    # Predict\n",
    "    prob = model.predict(mfcc)[0][0]  \n",
    "    label = \"Fake\" if prob > 0.5 else \"Real\"\n",
    "    \n",
    "    print(f\"Prediction: {label} ({prob:.2f} confidence)\")\n",
    "    return label, prob\n",
    "\n",
    "\n"
   ]
  },
  {
   "cell_type": "code",
   "execution_count": 24,
   "metadata": {},
   "outputs": [
    {
     "name": "stdout",
     "output_type": "stream",
     "text": [
      "\u001b[1m1/1\u001b[0m \u001b[32m━━━━━━━━━━━━━━━━━━━━\u001b[0m\u001b[37m\u001b[0m \u001b[1m0s\u001b[0m 53ms/step\n",
      "Prediction: Fake (1.00 confidence)\n",
      "\u001b[1m1/1\u001b[0m \u001b[32m━━━━━━━━━━━━━━━━━━━━\u001b[0m\u001b[37m\u001b[0m \u001b[1m0s\u001b[0m 24ms/step\n",
      "Prediction: Real (0.21 confidence)\n",
      "\u001b[1m1/1\u001b[0m \u001b[32m━━━━━━━━━━━━━━━━━━━━\u001b[0m\u001b[37m\u001b[0m \u001b[1m0s\u001b[0m 18ms/step\n",
      "Prediction: Fake (0.91 confidence)\n",
      "\u001b[1m1/1\u001b[0m \u001b[32m━━━━━━━━━━━━━━━━━━━━\u001b[0m\u001b[37m\u001b[0m \u001b[1m0s\u001b[0m 21ms/step\n",
      "Prediction: Real (0.18 confidence)\n",
      "\u001b[1m1/1\u001b[0m \u001b[32m━━━━━━━━━━━━━━━━━━━━\u001b[0m\u001b[37m\u001b[0m \u001b[1m0s\u001b[0m 32ms/step\n",
      "Prediction: Real (0.34 confidence)\n",
      "\u001b[1m1/1\u001b[0m \u001b[32m━━━━━━━━━━━━━━━━━━━━\u001b[0m\u001b[37m\u001b[0m \u001b[1m0s\u001b[0m 28ms/step\n",
      "Prediction: Fake (0.71 confidence)\n",
      "\u001b[1m1/1\u001b[0m \u001b[32m━━━━━━━━━━━━━━━━━━━━\u001b[0m\u001b[37m\u001b[0m \u001b[1m0s\u001b[0m 19ms/step\n",
      "Prediction: Real (0.41 confidence)\n",
      "\u001b[1m1/1\u001b[0m \u001b[32m━━━━━━━━━━━━━━━━━━━━\u001b[0m\u001b[37m\u001b[0m \u001b[1m0s\u001b[0m 104ms/step\n",
      "Prediction: Real (0.41 confidence)\n"
     ]
    },
    {
     "data": {
      "text/plain": [
       "('Real', np.float32(0.40681636))"
      ]
     },
     "execution_count": 24,
     "metadata": {},
     "output_type": "execute_result"
    }
   ],
   "source": [
    "predict_audio(\"/Users/hudakhaleel/sentinelai/sentinelai/dataset/fake/file6.mp3.wav_16k.wav_norm.wav_mono.wav_silence.wav_2sec.wav\", model)\n",
    "predict_audio(\"/Users/hudakhaleel/sentinelai/sentinelai/dataset/real/file2.wav_16k.wav_norm.wav_mono.wav_silence.wav_2sec.wav\",model)\n",
    "predict_audio(\"/Users/hudakhaleel/Downloads/archive/for-norm/for-norm/validation/fake/file5.mp3.wav_16k.wav_norm.wav_mono.wav_silence.wav\",model)\n",
    "predict_audio(\"/Users/hudakhaleel/Downloads/archive/for-rerec/for-rerecorded/testing/real/recording13532.wav_norm_mono.wav\",model)\n",
    "predict_audio(\"/Users/hudakhaleel/Downloads/archive/for-rerec/for-rerecorded/testing/fake/recording13017.wav_norm_mono.wav\",model)\n",
    "predict_audio(\"/Users/hudakhaleel/Downloads/-7488867614957496932 2.wav\",model)\n",
    "predict_audio(\"/Users/hudakhaleel/Downloads/archive/for-2sec/for-2seconds/testing/fake/file2.wav_16k.wav_norm.wav_mono.wav_silence.wav_2sec.wav\",model)\n",
    "predict_audio(\"/Users/hudakhaleel/Downloads/archive/for-2sec/for-2seconds/testing/fake/file37.wav_16k.wav_norm.wav_mono.wav_silence.wav_2sec.wav\",model)"
   ]
  },
  {
   "cell_type": "code",
   "execution_count": 14,
   "metadata": {},
   "outputs": [
    {
     "name": "stdout",
     "output_type": "stream",
     "text": [
      "\u001b[1m1/1\u001b[0m \u001b[32m━━━━━━━━━━━━━━━━━━━━\u001b[0m\u001b[37m\u001b[0m \u001b[1m0s\u001b[0m 43ms/step\n",
      "Prediction: Real (0.68 confidence)\n"
     ]
    },
    {
     "name": "stderr",
     "output_type": "stream",
     "text": [
      "/var/folders/k_/w30c5pr52md7kj9d__bfg6xr0000gn/T/ipykernel_67338/4093095509.py:3: UserWarning: PySoundFile failed. Trying audioread instead.\n",
      "  y, sr = librosa.load(\"/Users/hudakhaleel/Downloads/-7488867614957496932 2.m4a\", sr=16000)\n"
     ]
    },
    {
     "data": {
      "text/plain": [
       "('Real', 0.6831750273704529)"
      ]
     },
     "execution_count": 14,
     "metadata": {},
     "output_type": "execute_result"
    }
   ],
   "source": [
    "import librosa, soundfile as sf\n",
    "\n",
    "y, sr = librosa.load(\"/Users/hudakhaleel/Downloads/-7488867614957496932 2.m4a\", sr=16000)\n",
    "sf.write(\"converted.wav\", y, sr)\n",
    "predict_audio(\"converted.wav\", model)\n",
    "\n",
    "\n"
   ]
  },
  {
   "cell_type": "code",
   "execution_count": 13,
   "metadata": {},
   "outputs": [],
   "source": [
    "def predict_audio(audio_path, model):\n",
    "    import librosa, numpy as np\n",
    "    import soundfile as sf\n",
    "    import os, tempfile\n",
    "\n",
    "    # Always load with librosa (handles wav, mp3, flac, m4a, etc.)\n",
    "    y, sr = librosa.load(audio_path, sr=16000)\n",
    "\n",
    "    # Save to a temporary WAV (optional, ensures consistent format)\n",
    "    tmp_wav = tempfile.mktemp(suffix=\".wav\")\n",
    "    sf.write(tmp_wav, y, sr)\n",
    "\n",
    "    # Reload the clean WAV (consistent for feature extraction)\n",
    "    y, sr = librosa.load(tmp_wav, sr=16000)\n",
    "\n",
    "    # Extract MFCC\n",
    "    mfcc = librosa.feature.mfcc(y=y, sr=sr, n_mfcc=20)\n",
    "    mfcc = np.mean(mfcc.T, axis=0)\n",
    "    mfcc = mfcc.reshape(1, -1)\n",
    "\n",
    "    # Predict\n",
    "    probs = model.predict(mfcc)[0]    # e.g., [0.2, 0.8]\n",
    "    classes = [\"Real\", \"Fake\"]\n",
    "    label = classes[np.argmax(probs)]\n",
    "    confidence = float(np.max(probs))\n",
    "\n",
    "    print(f\"Prediction: {label} ({confidence:.2f} confidence)\")\n",
    "    return label, confidence\n"
   ]
  },
  {
   "cell_type": "code",
   "execution_count": 15,
   "metadata": {},
   "outputs": [
    {
     "name": "stdout",
     "output_type": "stream",
     "text": [
      "\u001b[1m1/1\u001b[0m \u001b[32m━━━━━━━━━━━━━━━━━━━━\u001b[0m\u001b[37m\u001b[0m \u001b[1m0s\u001b[0m 40ms/step\n",
      "Prediction: Real (1.00 confidence)\n",
      "\u001b[1m1/1\u001b[0m \u001b[32m━━━━━━━━━━━━━━━━━━━━\u001b[0m\u001b[37m\u001b[0m \u001b[1m0s\u001b[0m 18ms/step\n",
      "Prediction: Real (0.21 confidence)\n",
      "\u001b[1m1/1\u001b[0m \u001b[32m━━━━━━━━━━━━━━━━━━━━\u001b[0m\u001b[37m\u001b[0m \u001b[1m0s\u001b[0m 54ms/step\n",
      "Prediction: Real (0.91 confidence)\n",
      "\u001b[1m1/1\u001b[0m \u001b[32m━━━━━━━━━━━━━━━━━━━━\u001b[0m\u001b[37m\u001b[0m \u001b[1m0s\u001b[0m 34ms/step\n",
      "Prediction: Real (0.18 confidence)\n",
      "\u001b[1m1/1\u001b[0m \u001b[32m━━━━━━━━━━━━━━━━━━━━\u001b[0m\u001b[37m\u001b[0m \u001b[1m0s\u001b[0m 34ms/step\n",
      "Prediction: Real (0.34 confidence)\n",
      "\u001b[1m1/1\u001b[0m \u001b[32m━━━━━━━━━━━━━━━━━━━━\u001b[0m\u001b[37m\u001b[0m \u001b[1m0s\u001b[0m 43ms/step\n",
      "Prediction: Real (0.06 confidence)\n",
      "\u001b[1m1/1\u001b[0m \u001b[32m━━━━━━━━━━━━━━━━━━━━\u001b[0m\u001b[37m\u001b[0m \u001b[1m0s\u001b[0m 24ms/step\n",
      "Prediction: Real (0.68 confidence)\n"
     ]
    },
    {
     "name": "stderr",
     "output_type": "stream",
     "text": [
      "/var/folders/k_/w30c5pr52md7kj9d__bfg6xr0000gn/T/ipykernel_67338/124054854.py:7: UserWarning: PySoundFile failed. Trying audioread instead.\n",
      "  y, sr = librosa.load(audio_path, sr=16000)\n"
     ]
    },
    {
     "data": {
      "text/plain": [
       "('Real', 0.6831750273704529)"
      ]
     },
     "execution_count": 15,
     "metadata": {},
     "output_type": "execute_result"
    }
   ],
   "source": [
    "predict_audio(\"/Users/hudakhaleel/sentinelai/sentinelai/dataset/fake/file6.mp3.wav_16k.wav_norm.wav_mono.wav_silence.wav_2sec.wav\", model)\n",
    "predict_audio(\"/Users/hudakhaleel/sentinelai/sentinelai/dataset/real/file2.wav_16k.wav_norm.wav_mono.wav_silence.wav_2sec.wav\",model)\n",
    "predict_audio(\"/Users/hudakhaleel/Downloads/archive/for-norm/for-norm/validation/fake/file5.mp3.wav_16k.wav_norm.wav_mono.wav_silence.wav\",model)\n",
    "predict_audio(\"/Users/hudakhaleel/Downloads/archive/for-rerec/for-rerecorded/testing/real/recording13532.wav_norm_mono.wav\",model)\n",
    "predict_audio(\"/Users/hudakhaleel/Downloads/archive/for-rerec/for-rerecorded/testing/fake/recording13017.wav_norm_mono.wav\",model)\n",
    "predict_audio(\"/Users/hudakhaleel/Downloads/LibriSpeech/dev-clean/84/121123/84-121123-0002.flac\",model)\n",
    "predict_audio(\"/Users/hudakhaleel/Downloads/archive/for-2sec/for-2seconds/testing/fake/file2.wav_16k.wav_norm.wav_mono.wav_silence.wav_2sec.wav\",model)"
   ]
  },
  {
   "cell_type": "code",
   "execution_count": 70,
   "metadata": {},
   "outputs": [],
   "source": [
    "\n"
   ]
  },
  {
   "cell_type": "code",
   "execution_count": null,
   "metadata": {},
   "outputs": [],
   "source": []
  }
 ],
 "metadata": {
  "kernelspec": {
   "display_name": "base",
   "language": "python",
   "name": "python3"
  },
  "language_info": {
   "codemirror_mode": {
    "name": "ipython",
    "version": 3
   },
   "file_extension": ".py",
   "mimetype": "text/x-python",
   "name": "python",
   "nbconvert_exporter": "python",
   "pygments_lexer": "ipython3",
   "version": "3.13.7"
  }
 },
 "nbformat": 4,
 "nbformat_minor": 2
}
